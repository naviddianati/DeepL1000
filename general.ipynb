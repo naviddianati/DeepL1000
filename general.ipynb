{
 "cells": [
  {
   "cell_type": "code",
   "execution_count": 1,
   "id": "353f27ec",
   "metadata": {},
   "outputs": [],
   "source": [
    "import tensorflow as tf\n",
    "import keras\n",
    "import keras.backend as K\n",
    "from keras.metrics import BinaryCrossentropy\n",
    "from keras.losses import BinaryCrossentropy\n",
    "\n",
    "from keras.activations import sigmoid"
   ]
  },
  {
   "cell_type": "code",
   "execution_count": 2,
   "id": "4663e372",
   "metadata": {},
   "outputs": [
    {
     "data": {
      "text/plain": [
       "[]"
      ]
     },
     "execution_count": 2,
     "metadata": {},
     "output_type": "execute_result"
    }
   ],
   "source": [
    "tf.config.list_physical_devices('GPU')"
   ]
  },
  {
   "cell_type": "code",
   "execution_count": 14,
   "id": "72945727",
   "metadata": {},
   "outputs": [
    {
     "data": {
      "text/plain": [
       "array([4.5399931e-05, 6.6928566e-03, 5.0000000e-01, 9.9330711e-01,\n",
       "       9.9995458e-01], dtype=float32)"
      ]
     },
     "execution_count": 14,
     "metadata": {},
     "output_type": "execute_result"
    }
   ],
   "source": [
    "foo = tf.constant([-10, -5, 0.0, 5, 10], dtype = tf.float32)\n",
    "sigmoid(foo).numpy()"
   ]
  },
  {
   "cell_type": "code",
   "execution_count": 18,
   "id": "75d92af5",
   "metadata": {},
   "outputs": [
    {
     "data": {
      "text/plain": [
       "1.0"
      ]
     },
     "execution_count": 18,
     "metadata": {},
     "output_type": "execute_result"
    }
   ],
   "source": [
    "import scipy\n",
    "scipy.special.expit(43)"
   ]
  },
  {
   "cell_type": "code",
   "execution_count": null,
   "id": "af0940cc",
   "metadata": {},
   "outputs": [],
   "source": [
    "array([ 0.,  0.,  0.,  5., 10.], dtype=float32)\n",
    ">>> tf.keras.activations.relu(foo, alpha=0.5).numpy()\n",
    "array([-5. , -2.5,  0. ,  5. , 10. ], dtype=float32)\n",
    ">>> tf.keras.activations.relu(foo, max_value=5).numpy()\n",
    "array([0., 0., 0., 5., 5.], dtype=float32)\n",
    ">>> tf.keras.activations.relu(foo, threshold=5).numpy()\n",
    "array([-0., -0.,  0.,  0., 10.], dtype=float32)"
   ]
  },
  {
   "cell_type": "markdown",
   "id": "fe35f4f3",
   "metadata": {},
   "source": [
    "## The model "
   ]
  },
  {
   "cell_type": "code",
   "execution_count": 20,
   "id": "58f93842",
   "metadata": {},
   "outputs": [],
   "source": [
    "from keras.initializers import RandomNormal, Zeros\n",
    "from keras.layers import Dense, Dropout, Conv1D, Input, Reshape, Softmax, Flatten, Concatenate, BatchNormalization\n",
    "from keras.layers import  Lambda, Multiply, Dot, GaussianNoise, Add, Average, Subtract\n",
    "from keras.models import Sequential, Model\n",
    "from keras.models import load_model\n",
    "from keras.optimizers import SGD, Adagrad, Adadelta\n",
    "from keras.regularizers import l1_l2, l1, l2\n",
    "from keras.utils import plot_model\n",
    "\n",
    "import keras.backend as K\n",
    "import numpy as np\n",
    "import pandas as pd\n",
    "import logging\n",
    "import keras\n",
    "from keras.layers.pooling import AveragePooling1D, MaxPool1D\n",
    "from keras.layers.core import Activation\n"
   ]
  },
  {
   "cell_type": "code",
   "execution_count": 21,
   "id": "172083d7",
   "metadata": {},
   "outputs": [],
   "source": [
    "import MOAL1000.dataprep as dataprep\n",
    "import MOAL1000.dataload as dataload\n",
    "\n",
    "X_train, X_holdout, y_train, y_holdout = dataload.load_data_v1()"
   ]
  },
  {
   "cell_type": "code",
   "execution_count": 26,
   "id": "5c595cc9",
   "metadata": {},
   "outputs": [],
   "source": [
    "inputs = Input(shape=(978, 7,))\n",
    "\n",
    "layer1 = Dense(10)(inputs)\n",
    "layer2 = Dense(1)(layer1)\n",
    "\n",
    "layer3 = Flatten()(layer2)\n",
    "outputs = Dense(50)(layer3)\n",
    "model = Model(inputs=inputs, outputs=outputs)"
   ]
  },
  {
   "cell_type": "code",
   "execution_count": null,
   "id": "17ab2656",
   "metadata": {},
   "outputs": [],
   "source": []
  },
  {
   "cell_type": "code",
   "execution_count": 28,
   "id": "51ca6327",
   "metadata": {},
   "outputs": [
    {
     "name": "stdout",
     "output_type": "stream",
     "text": [
      "Model: \"model_2\"\n",
      "_________________________________________________________________\n",
      "Layer (type)                 Output Shape              Param #   \n",
      "=================================================================\n",
      "input_3 (InputLayer)         [(None, 978, 7)]          0         \n",
      "_________________________________________________________________\n",
      "dense_6 (Dense)              (None, 978, 10)           80        \n",
      "_________________________________________________________________\n",
      "dense_7 (Dense)              (None, 978, 1)            11        \n",
      "_________________________________________________________________\n",
      "flatten_2 (Flatten)          (None, 978)               0         \n",
      "_________________________________________________________________\n",
      "dense_8 (Dense)              (None, 50)                48950     \n",
      "=================================================================\n",
      "Total params: 49,041\n",
      "Trainable params: 49,041\n",
      "Non-trainable params: 0\n",
      "_________________________________________________________________\n"
     ]
    }
   ],
   "source": [
    "model.summary()"
   ]
  },
  {
   "cell_type": "code",
   "execution_count": 31,
   "id": "17415655",
   "metadata": {},
   "outputs": [
    {
     "data": {
      "text/plain": [
       "(3366, 50)"
      ]
     },
     "execution_count": 31,
     "metadata": {},
     "output_type": "execute_result"
    }
   ],
   "source": [
    "model(X_train).numpy().shape"
   ]
  },
  {
   "cell_type": "code",
   "execution_count": 9,
   "id": "eca5f4d7",
   "metadata": {},
   "outputs": [
    {
     "data": {
      "text/plain": [
       "[]"
      ]
     },
     "execution_count": 9,
     "metadata": {},
     "output_type": "execute_result"
    }
   ],
   "source": [
    "from keras import backend as K\n",
    "K._get_available_gpus()"
   ]
  },
  {
   "cell_type": "code",
   "execution_count": 2,
   "id": "7d1d794a",
   "metadata": {},
   "outputs": [
    {
     "name": "stdout",
     "output_type": "stream",
     "text": [
      "Num GPUs Available:  0\n"
     ]
    }
   ],
   "source": [
    "import tensorflow as tf; print(\"Num GPUs Available: \", len(tf.config.list_physical_devices(\"GPU\")))"
   ]
  },
  {
   "cell_type": "code",
   "execution_count": null,
   "id": "a280ec6a",
   "metadata": {},
   "outputs": [],
   "source": []
  },
  {
   "cell_type": "code",
   "execution_count": 12,
   "id": "f062422d",
   "metadata": {},
   "outputs": [],
   "source": [
    "import tensorflow as tf\n",
    "from tensorflow.keras.utils import plot_model"
   ]
  },
  {
   "cell_type": "code",
   "execution_count": 46,
   "id": "efa5efdd",
   "metadata": {},
   "outputs": [],
   "source": [
    "import numpy as np\n",
    "import pandas as pd\n",
    "a = pd.DataFrame(np.random.random((10,5)))\n",
    "a = a.astype(str).applymap(lambda s:s[:6])\n",
    "a.to_csv(\"tmp.txt\", sep=\"\\t\")"
   ]
  },
  {
   "cell_type": "code",
   "execution_count": null,
   "id": "fcff1b27",
   "metadata": {},
   "outputs": [],
   "source": []
  },
  {
   "cell_type": "code",
   "execution_count": null,
   "id": "039aa744",
   "metadata": {},
   "outputs": [],
   "source": [
    "\n"
   ]
  }
 ],
 "metadata": {
  "kernelspec": {
   "display_name": "Python 3",
   "language": "python",
   "name": "python3"
  },
  "language_info": {
   "codemirror_mode": {
    "name": "ipython",
    "version": 3
   },
   "file_extension": ".py",
   "mimetype": "text/x-python",
   "name": "python",
   "nbconvert_exporter": "python",
   "pygments_lexer": "ipython3",
   "version": "3.8.5"
  }
 },
 "nbformat": 4,
 "nbformat_minor": 5
}
